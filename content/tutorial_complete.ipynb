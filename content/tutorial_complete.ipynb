{
  "metadata": {
    "kernelspec": {
      "name": "python",
      "display_name": "Python (Pyodide)",
      "language": "python"
    },
    "language_info": {
      "codemirror_mode": {
        "name": "python",
        "version": 3
      },
      "file_extension": ".py",
      "mimetype": "text/x-python",
      "name": "python",
      "nbconvert_exporter": "python",
      "pygments_lexer": "ipython3",
      "version": "3.8"
    }
  },
  "nbformat_minor": 5,
  "nbformat": 4,
  "cells": [
    {
      "id": "8ef5f543-9571-4674-a912-5a91902ad9eb",
      "cell_type": "markdown",
      "source": "# Welcome to the xarray interactive tutorial\n## Importing some packages\nRun the following block of code. We will be making use of the following packages\n- numpy: library for creating and manipulating arrays\n- scipy: library for manipulating arrays\n- matplotlib: library for plotting arrays\n- xarray: library for labelling and interacting with arrays\nThe following block of code will import the packages, it may take a few seconds to complete.",
      "metadata": {}
    },
    {
      "id": "b3626307-1ac7-4922-a0b5-12a1d9d0c4ca",
      "cell_type": "code",
      "source": "import numpy as np\nimport scipy\nimport matplotlib.pyplot as plt\nimport xarray as xr",
      "metadata": {
        "trusted": true
      },
      "outputs": [],
      "execution_count": null
    },
    {
      "id": "79b32a25-080e-4e15-85ae-65c2dad32663",
      "cell_type": "markdown",
      "source": "# [1] Creating the noise array\nWe create an array of shape [31, 21, 3]",
      "metadata": {}
    },
    {
      "id": "ba99870c-fc05-4699-841c-4872d1a74bd7",
      "cell_type": "code",
      "source": "Nx = 31\nNy = 21\nNc = 3",
      "metadata": {
        "trusted": true
      },
      "outputs": [],
      "execution_count": null
    },
    {
      "id": "925c542b-cc4c-4edf-ac96-fda06a1009d0",
      "cell_type": "markdown",
      "source": "## [1a] numpy\n- We will use np.random.random to create the array and fill it with random values between 0 and 1\n- The display function is used to see a representation of the array",
      "metadata": {}
    },
    {
      "id": "e1bc9396-eec0-40d7-9421-5a220eff2d76",
      "cell_type": "code",
      "source": "noise_shape = [Nx, Ny, Nc]\nnoise_src = np.random.random(noise_shape)\ndisplay(noise_src)",
      "metadata": {
        "trusted": true
      },
      "outputs": [],
      "execution_count": null
    },
    {
      "id": "5d919e23-7b25-452e-8bc5-05a9680e90c5",
      "cell_type": "markdown",
      "source": "## [1b] Physical dimensions of the image\nWe will define coordinates to map onto the array\n- Width: 3 m\n- Height: 2 m\n- Color: RGB\nThe coordinate vectors of width and height will be generated using the np.linspace function",
      "metadata": {}
    },
    {
      "id": "e73e0c29-9b2a-4785-bd42-233ffe233081",
      "cell_type": "code",
      "source": "width = 3\nheight = 2\nwcoord = np.linspace(0, width, Nx)\nhcoord = np.linspace(0, height, Ny)\nccoord = ['r','g','b']\ndisplay(wcoord)",
      "metadata": {
        "trusted": true
      },
      "outputs": [],
      "execution_count": null
    },
    {
      "id": "42ffcf94-ba1b-4eca-b65a-cc39c069a84d",
      "cell_type": "markdown",
      "source": "## [1d] Creating an xarray DataArray\nWe will create a DataArray out of the numpy array and display it",
      "metadata": {}
    },
    {
      "id": "adfaa76b-a8eb-44f4-94bf-8099c4fccab2",
      "cell_type": "code",
      "source": "# Remove\nnoise = xr.DataArray(noise_src, dims=[\"w\",\"h\",\"c\"],coords = [wcoord, hcoord,ccoord])\ndisplay(noise)",
      "metadata": {
        "trusted": true
      },
      "outputs": [],
      "execution_count": null
    },
    {
      "id": "0dad8016-cbc9-4b4d-ba46-090317835d01",
      "cell_type": "markdown",
      "source": "# [2] Displaying the image\nWe will be visualizing the noise array we created. All visualization is done through the matplotlib library. \n## [2a] Plotting numpy array\nNoticing a few things\n- Axis Labels\n- Axis Ticks",
      "metadata": {}
    },
    {
      "id": "b8574a76-5860-4044-90da-cc80b2c8b618",
      "cell_type": "code",
      "source": "plt.pcolor(noise_src)\nplt.show()",
      "metadata": {
        "trusted": true
      },
      "outputs": [],
      "execution_count": null
    },
    {
      "id": "53d581f6-9ace-45a6-abfd-e3a40a3eb7cd",
      "cell_type": "markdown",
      "source": "## [2b] Fixing numpy plot\nWe can add a few things to fix the plot\n- Transpose image,\n- Add coordinates to plot\n- Add axis labels",
      "metadata": {}
    },
    {
      "id": "9b57fef4-31cd-4c98-a10d-7ac9f7680f15",
      "cell_type": "code",
      "source": "# REMOVE\nplt.pcolor(wcoord, hcoord, np.transpose(noise_src, axes=[1,0,2]))\nplt.ylabel(\"h\")\nplt.xlabel(\"w\")\nplt.show()",
      "metadata": {
        "trusted": true
      },
      "outputs": [],
      "execution_count": null
    },
    {
      "id": "6fccdc24-b68a-4c11-a052-13715b550b19",
      "cell_type": "markdown",
      "source": "## [2c] with xarray\nAs xarray bundles the coordinate vectors in a DataArray, plotting takes fewer lines of code to accomplish the same features as [2b]",
      "metadata": {}
    },
    {
      "id": "0ae20d4e-8ff8-4103-a6da-d1940b09d949",
      "cell_type": "code",
      "source": "# REMOVE \nnoise.plot.imshow(x=\"w\")\nplt.show()",
      "metadata": {
        "trusted": true
      },
      "outputs": [],
      "execution_count": null
    },
    {
      "id": "30111ed6-2a64-4e13-a74e-38703f1696d9",
      "cell_type": "markdown",
      "source": "# [3] Plotting RGB components\nAs images have a color dimension, we can view the individual RGB components of an image\n## [3a] With numpy + matplotlib\nSimilar to the previous section\n- have to transpose the matrix\n- pass in the coordinate vectors.\n\nThe individual colour components are obtained with array indexing",
      "metadata": {}
    },
    {
      "id": "f93a8fc3-5bd1-4ea3-8159-17edab02c5fa",
      "cell_type": "code",
      "source": "fig, axs = plt.subplots(1,3, figsize=(10,3))\ncolors = [\"Reds\",\"Blues\",\"Greens\"]\nfor i in range(3):\n    axs[i].pcolor(wcoord, hcoord, noise_src[:,:,i].T,cmap=colors[i])\n    axs[i].set_ylabel(\"h\")\n    axs[i].set_xlabel(\"w\")\nplt.tight_layout()\nplt.show(fig)",
      "metadata": {
        "trusted": true
      },
      "outputs": [],
      "execution_count": null
    },
    {
      "id": "bc74e8c0-f874-415d-9124-106c1c238593",
      "cell_type": "markdown",
      "source": "## [3b] xarray\nWe will showcase using 3 methods to isolate colour components\n1. Array Indexing\n2. .isel method to select based on index\n3. .sel method to select based on value",
      "metadata": {}
    },
    {
      "id": "08babff7-0704-4957-8396-b197dfcd5200",
      "cell_type": "code",
      "source": "fig, axs = plt.subplots(1,3, figsize=(10,3))\ncolors = [\"Reds\",\"Greens\",\"Blues\"]\n# CODE HERE [REMOVE]\nnoise[:,:,0].plot.imshow(x=\"w\",ax=axs[0],cmap=colors[0])\nnoise.isel(c=1).plot.imshow(x=\"w\",ax=axs[1],cmap=colors[1])\nnoise.sel(c=\"b\").plot.imshow(x=\"w\",ax=axs[2],cmap=colors[2])\nplt.tight_layout()\nplt.show(fig)",
      "metadata": {
        "trusted": true
      },
      "outputs": [],
      "execution_count": null
    },
    {
      "id": "d639f32b-7932-4f52-b9a5-333512b4310c",
      "cell_type": "markdown",
      "source": "# [4] Smoothing out noise\nWe will map our low resolution noise array onto a higher resolution grid\n- New Nx: 301\n- New Ny: 201\n\nStart by defining new coordinate vectors",
      "metadata": {}
    },
    {
      "id": "49bc94f8-6161-4d48-82d8-e0fe6c1525ae",
      "cell_type": "code",
      "source": "Nx_new = 301\nNy_new = 201\nnew_wcoord = np.linspace(0,width,Nx_new)\nnew_hcoord = np.linspace(0,height,Ny_new)",
      "metadata": {
        "trusted": true
      },
      "outputs": [],
      "execution_count": null
    },
    {
      "id": "207f2cec-d4ae-495a-9965-67980c4f4658",
      "cell_type": "markdown",
      "source": "## [4a] Interpolating onto higher resolution grid\nWe can use the interp method to interpolate our noise onto a larger grid\n- method options: \"linear\" [Default], \"cubic\"",
      "metadata": {}
    },
    {
      "id": "d0ecfcb1-0b14-4010-a5d0-b31c46f7aec1",
      "cell_type": "code",
      "source": "# REMOVE\nsmooth = noise.interp(w=new_wcoord,h=new_hcoord,method=\"cubic\")\ndisplay(smooth)",
      "metadata": {
        "trusted": true
      },
      "outputs": [],
      "execution_count": null
    },
    {
      "id": "9812931c-ba42-4afa-b14a-57bcbcbf3edd",
      "cell_type": "markdown",
      "source": "## [4c] Visualize before and after\nWe will plot the noise and smooth arrays side by side\n- Similar to before we will use the .plot.imshow method\n- We can pass in an axis variable for subplots",
      "metadata": {}
    },
    {
      "id": "84dbfebf-d3cb-42d7-bbe1-572d0914edf2",
      "cell_type": "code",
      "source": "fig, axs = plt.subplots(1,2,figsize=(10,5))\n# Code Here\nnoise.plot.imshow(ax=axs[0],x=\"w\")\naxs[0].set_title(\"Before\")\n# Code Here\nsmooth.plot.imshow(ax=axs[1],x=\"w\")\naxs[1].set_title(\"After\")\nplt.show()",
      "metadata": {
        "trusted": true
      },
      "outputs": [],
      "execution_count": null
    },
    {
      "id": "4ebaa2c4-065a-4e58-8827-74917d99a33b",
      "cell_type": "markdown",
      "source": "## [4d] What did interpolation do?\nUsing the .sel method we will examine the effects of interpolation by plotting the red component at a specific height (h=1)\n- Scatter plot for noise\n- Lineplot for smooth",
      "metadata": {}
    },
    {
      "id": "2db816b6-73b6-4ded-9a16-642deb06396d",
      "cell_type": "code",
      "source": "# REMOVE\nnoise.sel(h=1.0001,method=\"nearest\").sel(c='r').plot.scatter(color=\"red\",label=\"Before\")\nsmooth.sel(h=1.0001,method=\"nearest\").sel(c='r').plot(color=\"red\",label=\"After\")\nplt.legend()\nplt.show()",
      "metadata": {
        "trusted": true
      },
      "outputs": [],
      "execution_count": null
    },
    {
      "id": "eb19dcad-7632-4727-b5cf-aad2da31ec48",
      "cell_type": "markdown",
      "source": "## [4e] Access a coordinate not on the grid\nh = 1.0001 is not on either the noise or smooth arrays. But we can use direct xarray to find the nearest value",
      "metadata": {}
    },
    {
      "id": "655a47cb-49f6-4399-8214-3a27fdbaf4ab",
      "cell_type": "code",
      "source": "# REMOVE\nnoise.sel(h=1.0001,method=\"nearest\").sel(c='r').plot.scatter(color=\"red\",label=\"Before\")\nsmooth.sel(h=1.0001,method=\"nearest\").sel(c='r').plot(color=\"red\",label=\"After\")\nplt.legend()\nplt.show()",
      "metadata": {
        "trusted": true
      },
      "outputs": [],
      "execution_count": null
    },
    {
      "id": "29083212-08cf-4327-be8e-565390a31645",
      "cell_type": "markdown",
      "source": "# [5] Transforming the smooth array\nWe will be making modifications to the smooth array. Start by creating a copy of the smooth array",
      "metadata": {}
    },
    {
      "id": "d1af9ee5-7ac4-4e54-8622-023dd678d882",
      "cell_type": "code",
      "source": "# Remove\ntform = smooth.copy()",
      "metadata": {
        "trusted": true
      },
      "outputs": [],
      "execution_count": null
    },
    {
      "id": "4cb4a9ba-2afc-4905-a5da-3f27927cf1df",
      "cell_type": "markdown",
      "source": "## [5a] Transforming the whole array\nSimilar to numpy, we can apply numpy functions on the grid\n- Output array should still have values between 0 and 1\n- Try a combination of trig/exponential functions i.e. (np.sin(np.exp(x)))\n- Use the modulus operator (% 1) to limit values between 0 and 1\n\nPlot transformed results",
      "metadata": {}
    },
    {
      "id": "7def2dee-2970-4c89-b77d-07eb954a6b46",
      "cell_type": "code",
      "source": "tform = np.sin(np.exp(tform**2)) % 1\n\ntform.plot.imshow(x=\"h\")",
      "metadata": {
        "trusted": true
      },
      "outputs": [],
      "execution_count": null
    },
    {
      "id": "19832cdf-1651-41fc-ad48-f744b7bfbc74",
      "cell_type": "markdown",
      "source": "## [5b] Transforming part of the array\nWe can make modifications to the array using the .loc attribute\nIn this example I will remove the green component from the image [Set to 0]",
      "metadata": {}
    },
    {
      "id": "f2de90cf-f79f-4eb1-981a-462e478adc87",
      "cell_type": "code",
      "source": "tform.loc[{\"c\":\"g\"}] = 0\ntform.plot.imshow(x=\"h\")",
      "metadata": {
        "trusted": true
      },
      "outputs": [],
      "execution_count": null
    },
    {
      "id": "4467addc-e127-4d8c-8cd7-cbf5188f5e2c",
      "cell_type": "markdown",
      "source": "## [5c] Accessing a range of coordinates\nWe can access a range of coordinates using slice objects\nIn this example I remove the red component from a portion of the image",
      "metadata": {}
    },
    {
      "id": "46423c9d-8d57-4f49-86fc-a273908f5c67",
      "cell_type": "code",
      "source": "tform.loc[:,slice(0.25,0.75),\"r\"] = 0\ntform.loc[{\"w\":slice(0.25,0.75), \"c\":\"r\"}] = 0\ntform.plot.imshow(x=\"h\")",
      "metadata": {
        "trusted": true
      },
      "outputs": [],
      "execution_count": null
    }
  ]
}